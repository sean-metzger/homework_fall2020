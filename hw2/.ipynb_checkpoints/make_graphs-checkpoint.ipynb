{
 "cells": [
  {
   "cell_type": "code",
   "execution_count": 92,
   "metadata": {},
   "outputs": [],
   "source": [
    "# Graphs\n",
    "\n",
    "\n",
    "import tensorflow as tf\n",
    "\n",
    "import os\n",
    "\n",
    "\n",
    "def get_section_results(file):\n",
    "    \n",
    "    ff = os.listdir(file)\n",
    "    for fff in ff: \n",
    "        print('using file', os.path.join(file, fff))\n",
    "        eval_returns = []\n",
    "        eval_std = []\n",
    "        for e in tf.compat.v1.train.summary_iterator(os.path.join(file, fff)):\n",
    "            for v in e.summary.value:\n",
    "                if v.tag == 'Eval_AverageReturn':\n",
    "                    eval_returns.append(v.simple_value)\n",
    "                elif v.tag == 'Eval_StdReturn': \n",
    "                    eval_std.append(v.simple_value)\n",
    "        return eval_returns, eval_std"
   ]
  },
  {
   "cell_type": "code",
   "execution_count": 93,
   "metadata": {},
   "outputs": [],
   "source": [
    "f1 = '/userdata/smetzger/cs285/homework_fall2020/hw2/cs285/scripts/../../data/q1_lb_no_rtg_dsa_CartPole-v0_27-09-2020_16-10-19' \n",
    "\n",
    "data_dir = '/userdata/smetzger/cs285/homework_fall2020/hw2/cs285/scripts/../../data/'\n",
    "import numpy as np\n",
    "exps = {}\n",
    "for runs in os.listdir(data_dir): \n",
    "    # go through each run, get the latest one (assume thats the goat)\n",
    "    exp_name = runs.split('-')[0]\n",
    "    from datetime import datetime as dt\n",
    "    \n",
    "    datestr = runs.split('-')[1:]\n",
    "    datestr = ('_').join(datestr)[3:]\n",
    "    a = dt.strptime(datestr, \"%d_%m_%Y_%H_%M_%S\")\n",
    "#     if 'q3' in runs: \n",
    "#         print(runs)\n",
    "    if not exp_name in exps: \n",
    "        exps[exp_name] = (runs, a)\n",
    "    else: \n",
    "        date_old = exps[exp_name][1]\n",
    "        if a > date_old: \n",
    "            exps[exp_name] = (runs, a)\n",
    "            \n",
    "            "
   ]
  },
  {
   "cell_type": "code",
   "execution_count": 97,
   "metadata": {},
   "outputs": [
    {
     "data": {
      "text/plain": [
       "<Figure size 432x288 with 0 Axes>"
      ]
     },
     "metadata": {},
     "output_type": "display_data"
    }
   ],
   "source": [
    "\n",
    "# This is specific to q4\n",
    "\n",
    "import matplotlib.pyplot as plt\n",
    "import collections\n",
    "exps = collections.OrderedDict(sorted(exps.items()))\n",
    "for k, v in exps.items(): \n",
    "    if 'q4' in k and not 'lr0.04' in k: \n",
    "        v = list(v)\n",
    "#         v[0] = 'q3_b40000_r0.005_LunarLanderContinuous-v2_27-09-2020_23-03-14'\n",
    "        print(data_dir + v[0])#'q3_b40000_r0.005_LunarLanderContinuous-v2_27-09-2020_23-03-14')\n",
    "        returns, stds= get_section_results(data_dir + v[0])\n",
    "        print(np.max(returns))\n",
    "        plt.errorbar(np.arange(len(returns)), returns, yerr=stds, label = v[0].split('_rtg')[0][10:])\n",
    "        plt.xlabel('Iters')\n",
    "        plt.ylabel('Returns')\n",
    "        plt.legend()\n",
    "plt.show()\n",
    "plt.savefig('./5_q1_sb')\n",
    "\n",
    "        \n",
    "\n",
    "# plt.show()"
   ]
  },
  {
   "cell_type": "code",
   "execution_count": 96,
   "metadata": {},
   "outputs": [
    {
     "name": "stdout",
     "output_type": "stream",
     "text": [
      "/userdata/smetzger/cs285/homework_fall2020/hw2/cs285/scripts/../../data/q3_b40000_r0.005_LunarLanderContinuous-v2_28-09-2020_11-03-43\n",
      "using file /userdata/smetzger/cs285/homework_fall2020/hw2/cs285/scripts/../../data/q3_b40000_r0.005_LunarLanderContinuous-v2_28-09-2020_11-03-43/events.out.tfevents.1601316223.mind5\n",
      "173.74220275878906\n"
     ]
    },
    {
     "data": {
      "image/png": "[encoded data removed]",
      "text/plain": [
       "<Figure size 432x288 with 1 Axes>"
      ]
     },
     "metadata": {
      "needs_background": "light"
     },
     "output_type": "display_data"
    },
    {
     "data": {
      "text/plain": [
       "<Figure size 432x288 with 0 Axes>"
      ]
     },
     "metadata": {},
     "output_type": "display_data"
    }
   ],
   "source": [
    "import matplotlib.pyplot as plt\n",
    "import collections\n",
    "exps = collections.OrderedDict(sorted(exps.items()))\n",
    "for k, v in exps.items(): \n",
    "    if 'q3' in k: \n",
    "        v = list(v)\n",
    "#         v[0] = 'q3_b40000_r0.005_LunarLanderContinuous-v2_27-09-2020_23-03-14'\n",
    "        print(data_dir + v[0])#'q3_b40000_r0.005_LunarLanderContinuous-v2_27-09-2020_23-03-14')\n",
    "        returns, stds= get_section_results(data_dir + v[0])\n",
    "        print(np.max(returns))\n",
    "        plt.errorbar(np.arange(len(returns)), returns, yerr=stds, label = v[0].split('_rtg')[0][10:])\n",
    "        plt.xlabel('Iters')\n",
    "        plt.ylabel('Returns')\n",
    "        plt.legend()\n",
    "plt.show()\n",
    "plt.savefig('./5_q1_sb')\n",
    "\n",
    "        \n",
    "\n",
    "# plt.show()"
   ]
  },
  {
   "cell_type": "code",
   "execution_count": null,
   "metadata": {},
   "outputs": [],
   "source": []
  },
  {
   "cell_type": "code",
   "execution_count": null,
   "metadata": {},
   "outputs": [],
   "source": []
  }
 ],
 "metadata": {
  "kernelspec": {
   "display_name": "Python 3",
   "language": "python",
   "name": "python3"
  },
  "language_info": {
   "codemirror_mode": {
    "name": "ipython",
    "version": 3
   },
   "file_extension": ".py",
   "mimetype": "text/x-python",
   "name": "python",
   "nbconvert_exporter": "python",
   "pygments_lexer": "ipython3",
   "version": "3.6.6"
  }
 },
 "nbformat": 4,
 "nbformat_minor": 4
}
