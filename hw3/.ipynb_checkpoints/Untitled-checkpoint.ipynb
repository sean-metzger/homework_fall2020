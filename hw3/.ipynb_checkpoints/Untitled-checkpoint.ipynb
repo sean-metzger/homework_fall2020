{
 "cells": [
  {
   "cell_type": "code",
   "execution_count": 9,
   "metadata": {},
   "outputs": [],
   "source": [
    "\n",
    "# Graphs\n",
    "\n",
    "\n",
    "import tensorflow as tf\n",
    "\n",
    "import os\n",
    "\n",
    "\n",
    "def get_section_results(file):\n",
    "    \n",
    "    ff = os.listdir(file)\n",
    "    for fff in ff: \n",
    "        print('using file', os.path.join(file, fff))\n",
    "        eval_returns = []\n",
    "        eval_std = []\n",
    "        for e in tf.compat.v1.train.summary_iterator(os.path.join(file, fff)):\n",
    "            for v in e.summary.value:\n",
    "                if v.tag == 'Eval_AverageReturn':\n",
    "                    eval_returns.append(v.simple_value)\n",
    "                elif v.tag == 'Eval_StdReturn': \n",
    "                    eval_std.append(v.simple_value)\n",
    "        return eval_returns, eval_std"
   ]
  },
  {
   "cell_type": "code",
   "execution_count": 10,
   "metadata": {},
   "outputs": [],
   "source": [
    "data_dir = '/userdata/smetzger/cs285/homework_fall2020/hw3/cs285/data/'\n",
    "import numpy as np\n",
    "exps = {}\n",
    "for runs in os.listdir(data_dir): \n",
    "    # go through each run, get the latest one (assume thats the goat)\n",
    "    exp_name = runs.split('-')[0]\n",
    "    from datetime import datetime as dt\n",
    "    \n",
    "    datestr = runs.split('-')[1:]\n",
    "    datestr = ('_').join(datestr)[3:]\n",
    "    a = dt.strptime(datestr, \"%d_%m_%Y_%H_%M_%S\")\n",
    "#     if 'q3' in runs: \n",
    "#         print(runs)\n",
    "    if not exp_name in exps: \n",
    "        exps[exp_name] = (runs, a)\n",
    "    else: \n",
    "        date_old = exps[exp_name][1]\n",
    "        if a > date_old: \n",
    "            exps[exp_name] = (runs, a)"
   ]
  },
  {
   "cell_type": "code",
   "execution_count": 11,
   "metadata": {},
   "outputs": [
    {
     "name": "stdout",
     "output_type": "stream",
     "text": [
      "/userdata/smetzger/cs285/homework_fall2020/hw3/cs285/data/hw3_todo_MsPacman-v0_15-10-2020_19-37-30/\n",
      "/userdata/smetzger/cs285/homework_fall2020/hw3/cs285/data/hw3_q1_LunarLander-v3_15-10-2020_21-59-59/\n",
      "/userdata/smetzger/cs285/homework_fall2020/hw3/cs285/data/hw3_rip_LunarLander-v3_16-10-2020_11-25-48/\n",
      "/userdata/smetzger/cs285/homework_fall2020/hw3/cs285/data/hw3_ q4_100_1_CartPole-v0_19-10-2020_12-09-32/\n",
      "/userdata/smetzger/cs285/homework_fall2020/hw3/cs285/data/hw3_ q4_ac_1_1_CartPole-v0_19-10-2020_12-05-34/\n",
      "/userdata/smetzger/cs285/homework_fall2020/hw3/cs285/data/hw3_q1_MsPacman-v0_15-10-2020_22-00-59/\n",
      "/userdata/smetzger/cs285/homework_fall2020/hw3/cs285/data/hw3_ q5_1_100_InvertedPendulum-v2_19-10-2020_12-23-43/\n",
      "/userdata/smetzger/cs285/homework_fall2020/hw3/cs285/data/hw3_q2_doubledqn_1_LunarLander-v3_16-10-2020_11-31-48/\n",
      "/userdata/smetzger/cs285/homework_fall2020/hw3/cs285/data/hw3_ q5_1_100_HalfCheetah-v2_19-10-2020_12-28-29/\n",
      "/userdata/smetzger/cs285/homework_fall2020/hw3/cs285/data/hw3_q2_dqn_1_LunarLander-v3_16-10-2020_11-28-44/\n",
      "/userdata/smetzger/cs285/homework_fall2020/hw3/cs285/data/hw3_rip_MsPacman-v0_16-10-2020_11-21-19/\n",
      "/userdata/smetzger/cs285/homework_fall2020/hw3/cs285/data/hw3_q2_dqn_2_LunarLander-v3_16-10-2020_11-29-37/\n",
      "/userdata/smetzger/cs285/homework_fall2020/hw3/cs285/data/hw3_ q4_1_100_CartPole-v0_19-10-2020_12-13-24/\n",
      "/userdata/smetzger/cs285/homework_fall2020/hw3/cs285/data/hw3_ q4_10_10_CartPole-v0_19-10-2020_12-16-32/\n"
     ]
    }
   ],
   "source": [
    "for k, v in exps.items(): \n",
    "#     print(k, v[0])\n",
    "    direct = data_dir + v[0] + '/'\n",
    "    print(direct)\n",
    "#     !cp -a $direct ./run_logs"
   ]
  },
  {
   "cell_type": "code",
   "execution_count": 17,
   "metadata": {},
   "outputs": [
    {
     "name": "stdout",
     "output_type": "stream",
     "text": [
      "kkkk hw3_q2_doubledqn_1_LunarLander\n",
      "/userdata/smetzger/cs285/homework_fall2020/hw3/cs285/data/hw3_q2_doubledqn_1_LunarLander-v3_16-10-2020_11-31-48\n",
      "using file /userdata/smetzger/cs285/homework_fall2020/hw3/cs285/data/hw3_q2_doubledqn_1_LunarLander-v3_16-10-2020_11-31-48/events.out.tfevents.1602873108.mind8\n"
     ]
    },
    {
     "ename": "ValueError",
     "evalue": "zero-size array to reduction operation maximum which has no identity",
     "output_type": "error",
     "traceback": [
      "\u001b[0;31m---------------------------------------------------------------------------\u001b[0m",
      "\u001b[0;31mValueError\u001b[0m                                Traceback (most recent call last)",
      "\u001b[0;32m<ipython-input-17-ce97c006e56c>\u001b[0m in \u001b[0;36m<module>\u001b[0;34m()\u001b[0m\n\u001b[1;32m     11\u001b[0m         \u001b[0mprint\u001b[0m\u001b[0;34m(\u001b[0m\u001b[0mdata_dir\u001b[0m \u001b[0;34m+\u001b[0m \u001b[0mv\u001b[0m\u001b[0;34m[\u001b[0m\u001b[0;36m0\u001b[0m\u001b[0;34m]\u001b[0m\u001b[0;34m)\u001b[0m\u001b[0;31m#'q3_b40000_r0.005_LunarLanderContinuous-v2_27-09-2020_23-03-14')\u001b[0m\u001b[0;34m\u001b[0m\u001b[0m\n\u001b[1;32m     12\u001b[0m         \u001b[0mreturns\u001b[0m\u001b[0;34m,\u001b[0m \u001b[0mstds\u001b[0m\u001b[0;34m=\u001b[0m \u001b[0mget_section_results\u001b[0m\u001b[0;34m(\u001b[0m\u001b[0mdata_dir\u001b[0m \u001b[0;34m+\u001b[0m \u001b[0mv\u001b[0m\u001b[0;34m[\u001b[0m\u001b[0;36m0\u001b[0m\u001b[0;34m]\u001b[0m\u001b[0;34m)\u001b[0m\u001b[0;34m\u001b[0m\u001b[0m\n\u001b[0;32m---> 13\u001b[0;31m         \u001b[0mprint\u001b[0m\u001b[0;34m(\u001b[0m\u001b[0mnp\u001b[0m\u001b[0;34m.\u001b[0m\u001b[0mmax\u001b[0m\u001b[0;34m(\u001b[0m\u001b[0mreturns\u001b[0m\u001b[0;34m)\u001b[0m\u001b[0;34m)\u001b[0m\u001b[0;34m\u001b[0m\u001b[0m\n\u001b[0m\u001b[1;32m     14\u001b[0m         \u001b[0mplt\u001b[0m\u001b[0;34m.\u001b[0m\u001b[0merrorbar\u001b[0m\u001b[0;34m(\u001b[0m\u001b[0mnp\u001b[0m\u001b[0;34m.\u001b[0m\u001b[0marange\u001b[0m\u001b[0;34m(\u001b[0m\u001b[0mlen\u001b[0m\u001b[0;34m(\u001b[0m\u001b[0mreturns\u001b[0m\u001b[0;34m)\u001b[0m\u001b[0;34m)\u001b[0m\u001b[0;34m,\u001b[0m \u001b[0mreturns\u001b[0m\u001b[0;34m,\u001b[0m \u001b[0myerr\u001b[0m\u001b[0;34m=\u001b[0m\u001b[0mstds\u001b[0m\u001b[0;34m,\u001b[0m \u001b[0mlabel\u001b[0m \u001b[0;34m=\u001b[0m \u001b[0mv\u001b[0m\u001b[0;34m[\u001b[0m\u001b[0;36m0\u001b[0m\u001b[0;34m]\u001b[0m\u001b[0;34m.\u001b[0m\u001b[0msplit\u001b[0m\u001b[0;34m(\u001b[0m\u001b[0;34m'_Inverted'\u001b[0m\u001b[0;34m)\u001b[0m\u001b[0;34m[\u001b[0m\u001b[0;36m0\u001b[0m\u001b[0;34m]\u001b[0m\u001b[0;34m)\u001b[0m\u001b[0;34m\u001b[0m\u001b[0m\n\u001b[1;32m     15\u001b[0m         \u001b[0mplt\u001b[0m\u001b[0;34m.\u001b[0m\u001b[0mxlabel\u001b[0m\u001b[0;34m(\u001b[0m\u001b[0;34m'Iters'\u001b[0m\u001b[0;34m)\u001b[0m\u001b[0;34m\u001b[0m\u001b[0m\n",
      "\u001b[0;32m<__array_function__ internals>\u001b[0m in \u001b[0;36mamax\u001b[0;34m(*args, **kwargs)\u001b[0m\n",
      "\u001b[0;32m~/.local/lib/python3.6/site-packages/numpy/core/fromnumeric.py\u001b[0m in \u001b[0;36mamax\u001b[0;34m(a, axis, out, keepdims, initial, where)\u001b[0m\n\u001b[1;32m   2704\u001b[0m     \"\"\"\n\u001b[1;32m   2705\u001b[0m     return _wrapreduction(a, np.maximum, 'max', axis, None, out,\n\u001b[0;32m-> 2706\u001b[0;31m                           keepdims=keepdims, initial=initial, where=where)\n\u001b[0m\u001b[1;32m   2707\u001b[0m \u001b[0;34m\u001b[0m\u001b[0m\n\u001b[1;32m   2708\u001b[0m \u001b[0;34m\u001b[0m\u001b[0m\n",
      "\u001b[0;32m~/.local/lib/python3.6/site-packages/numpy/core/fromnumeric.py\u001b[0m in \u001b[0;36m_wrapreduction\u001b[0;34m(obj, ufunc, method, axis, dtype, out, **kwargs)\u001b[0m\n\u001b[1;32m     85\u001b[0m                 \u001b[0;32mreturn\u001b[0m \u001b[0mreduction\u001b[0m\u001b[0;34m(\u001b[0m\u001b[0maxis\u001b[0m\u001b[0;34m=\u001b[0m\u001b[0maxis\u001b[0m\u001b[0;34m,\u001b[0m \u001b[0mout\u001b[0m\u001b[0;34m=\u001b[0m\u001b[0mout\u001b[0m\u001b[0;34m,\u001b[0m \u001b[0;34m**\u001b[0m\u001b[0mpasskwargs\u001b[0m\u001b[0;34m)\u001b[0m\u001b[0;34m\u001b[0m\u001b[0m\n\u001b[1;32m     86\u001b[0m \u001b[0;34m\u001b[0m\u001b[0m\n\u001b[0;32m---> 87\u001b[0;31m     \u001b[0;32mreturn\u001b[0m \u001b[0mufunc\u001b[0m\u001b[0;34m.\u001b[0m\u001b[0mreduce\u001b[0m\u001b[0;34m(\u001b[0m\u001b[0mobj\u001b[0m\u001b[0;34m,\u001b[0m \u001b[0maxis\u001b[0m\u001b[0;34m,\u001b[0m \u001b[0mdtype\u001b[0m\u001b[0;34m,\u001b[0m \u001b[0mout\u001b[0m\u001b[0;34m,\u001b[0m \u001b[0;34m**\u001b[0m\u001b[0mpasskwargs\u001b[0m\u001b[0;34m)\u001b[0m\u001b[0;34m\u001b[0m\u001b[0m\n\u001b[0m\u001b[1;32m     88\u001b[0m \u001b[0;34m\u001b[0m\u001b[0m\n\u001b[1;32m     89\u001b[0m \u001b[0;34m\u001b[0m\u001b[0m\n",
      "\u001b[0;31mValueError\u001b[0m: zero-size array to reduction operation maximum which has no identity"
     ]
    },
    {
     "data": {
      "text/plain": [
       "<Figure size 432x288 with 0 Axes>"
      ]
     },
     "metadata": {},
     "output_type": "display_data"
    }
   ],
   "source": [
    "%matplotlib inline\n",
    "import matplotlib.pyplot as plt\n",
    "plt.clf()\n",
    "import collections\n",
    "exps = collections.OrderedDict(sorted(exps.items()))\n",
    "for k, v in exps.items(): \n",
    "    if 'q2' in k:\n",
    "        print('kkkk', k)\n",
    "        v = list(v)\n",
    "#         v[0] = 'q3_b40000_r0.005_LunarLanderContinuous-v2_27-09-2020_23-03-14'\n",
    "        print(data_dir + v[0])#'q3_b40000_r0.005_LunarLanderContinuous-v2_27-09-2020_23-03-14')\n",
    "        returns, stds= get_section_results(data_dir + v[0])\n",
    "        try:\n",
    "            print(np.max(returns))\n",
    "            plt.errorbar(np.arange(len(returns)), returns, yerr=stds, label = v[0].split('_Inverted')[0])\n",
    "            plt.xlabel('Iters')\n",
    "            plt.ylabel('Returns')\n",
    "            plt.legend()\n",
    "            plt.savefig('./smlb')\n",
    "            plt.show()\n",
    "        except Exception: \n",
    "            continue\n"
   ]
  },
  {
   "cell_type": "code",
   "execution_count": null,
   "metadata": {},
   "outputs": [],
   "source": []
  }
 ],
 "metadata": {
  "kernelspec": {
   "display_name": "Python 3",
   "language": "python",
   "name": "python3"
  },
  "language_info": {
   "codemirror_mode": {
    "name": "ipython",
    "version": 3
   },
   "file_extension": ".py",
   "mimetype": "text/x-python",
   "name": "python",
   "nbconvert_exporter": "python",
   "pygments_lexer": "ipython3",
   "version": "3.6.6"
  }
 },
 "nbformat": 4,
 "nbformat_minor": 4
}
