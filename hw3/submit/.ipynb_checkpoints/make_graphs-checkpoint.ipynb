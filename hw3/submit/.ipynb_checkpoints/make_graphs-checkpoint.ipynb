{
 "cells": [
  {
   "cell_type": "code",
   "execution_count": 1,
   "metadata": {},
   "outputs": [
    {
     "name": "stderr",
     "output_type": "stream",
     "text": [
      "/userdata/smetzger/gim/lib/python3.6/site-packages/tensorflow/python/framework/dtypes.py:516: FutureWarning: Passing (type, 1) or '1type' as a synonym of type is deprecated; in a future version of numpy, it will be understood as (type, (1,)) / '(1,)type'.\n",
      "  _np_qint8 = np.dtype([(\"qint8\", np.int8, 1)])\n",
      "/userdata/smetzger/gim/lib/python3.6/site-packages/tensorflow/python/framework/dtypes.py:517: FutureWarning: Passing (type, 1) or '1type' as a synonym of type is deprecated; in a future version of numpy, it will be understood as (type, (1,)) / '(1,)type'.\n",
      "  _np_quint8 = np.dtype([(\"quint8\", np.uint8, 1)])\n",
      "/userdata/smetzger/gim/lib/python3.6/site-packages/tensorflow/python/framework/dtypes.py:518: FutureWarning: Passing (type, 1) or '1type' as a synonym of type is deprecated; in a future version of numpy, it will be understood as (type, (1,)) / '(1,)type'.\n",
      "  _np_qint16 = np.dtype([(\"qint16\", np.int16, 1)])\n",
      "/userdata/smetzger/gim/lib/python3.6/site-packages/tensorflow/python/framework/dtypes.py:519: FutureWarning: Passing (type, 1) or '1type' as a synonym of type is deprecated; in a future version of numpy, it will be understood as (type, (1,)) / '(1,)type'.\n",
      "  _np_quint16 = np.dtype([(\"quint16\", np.uint16, 1)])\n",
      "/userdata/smetzger/gim/lib/python3.6/site-packages/tensorflow/python/framework/dtypes.py:520: FutureWarning: Passing (type, 1) or '1type' as a synonym of type is deprecated; in a future version of numpy, it will be understood as (type, (1,)) / '(1,)type'.\n",
      "  _np_qint32 = np.dtype([(\"qint32\", np.int32, 1)])\n",
      "/userdata/smetzger/gim/lib/python3.6/site-packages/tensorflow/python/framework/dtypes.py:525: FutureWarning: Passing (type, 1) or '1type' as a synonym of type is deprecated; in a future version of numpy, it will be understood as (type, (1,)) / '(1,)type'.\n",
      "  np_resource = np.dtype([(\"resource\", np.ubyte, 1)])\n"
     ]
    }
   ],
   "source": [
    "import tensorflow as tf\n",
    "import os\n",
    "\n",
    "def get_section_results(file, avret='Eval_AverageReturn', \n",
    "                        stdret='Eval_StdReturn'):\n",
    "    \n",
    "    ff = os.listdir(file)\n",
    "    for fff in ff: \n",
    "        if 'events' in fff:\n",
    "            print('using file', os.path.join(file, fff))\n",
    "            print('file', file)\n",
    "            eval_returns = []\n",
    "            eval_std = []\n",
    "            for e in tf.compat.v1.train.summary_iterator(os.path.join(file, fff)):\n",
    "              \n",
    "                for v in e.summary.value:\n",
    "                    if v.tag == avret:\n",
    "                        eval_returns.append(v.simple_value)\n",
    "                    elif v.tag == stdret: \n",
    "                        eval_std.append(v.simple_value)\n",
    "            return eval_returns, eval_std\n",
    "        \n",
    "    assert False\n",
    "    \n",
    "    \n",
    "import tensorflow as tf\n",
    "import os\n",
    "\n",
    "def get_section_results_atari(file, avret='Eval_AverageReturn', \n",
    "                        stdret='Train_EnvstepsSoFar'):\n",
    "    \n",
    "    ff = os.listdir(file)\n",
    "    for fff in ff: \n",
    "        if 'events' in fff:\n",
    "            print('using file', os.path.join(file, fff))\n",
    "            eval_returns = []\n",
    "            eval_std = []\n",
    "            \n",
    "            for e in tf.compat.v1.train.summary_iterator(os.path.join(file, fff)):\n",
    "              \n",
    "                for v in e.summary.value:\n",
    "#                     print(v)\n",
    "                    if v.tag == avret:\n",
    "                        eval_returns.append(v.simple_value)\n",
    "                    elif v.tag == stdret: \n",
    "                        eval_std.append(v.simple_value)\n",
    "            return eval_std, eval_returns\n",
    "        \n",
    "    assert False"
   ]
  },
  {
   "cell_type": "code",
   "execution_count": 2,
   "metadata": {},
   "outputs": [],
   "source": [
    "data_dir = './data/'\n",
    "import numpy as np\n",
    "exps = {}\n",
    "for runs in os.listdir(data_dir): \n",
    "    # go through each run, get the latest one (assume thats the goat)\n",
    "    exp_name = runs.split('-')[0]\n",
    "    from datetime import datetime as dt\n",
    "    try:\n",
    "        datestr = runs.split('-')[1:]\n",
    "        datestr = ('_').join(datestr)[3:]\n",
    "        a = dt.strptime(datestr, \"%d_%m_%Y_%H_%M_%S\")\n",
    "    #     if 'q3' in runs: \n",
    "    #         print(runs)\n",
    "        if not exp_name in exps: \n",
    "            exps[exp_name] = (runs, a)\n",
    "        else: \n",
    "            date_old = exps[exp_name][1]\n",
    "            if a > date_old: \n",
    "                exps[exp_name] = (runs, a)\n",
    "    except Exception: \n",
    "        continue"
   ]
  },
  {
   "cell_type": "code",
   "execution_count": 3,
   "metadata": {},
   "outputs": [
    {
     "name": "stdout",
     "output_type": "stream",
     "text": [
      "./data/hw3_q5_1_100_InvertedPendulum-v2_19-10-2020_12-23-43/\n",
      "./data/hw3_q3_hparam3_LunarLander-v3_19-10-2020_13-43-29/\n",
      "./data/hw3_q2_dqn_3_LunarLander-v3_16-10-2020_11-29-37/\n",
      "./data/hw3_q3_hparam4_LunarLander-v3_19-10-2020_13-43-29/\n",
      "./data/hw3_q3_hparam2_LunarLander-v3_19-10-2020_13-43-14/\n",
      "./data/hw3_q4_100_1_CartPole-v0_19-10-2020_12-09-32/\n",
      "./data/hw3_q5_1_100_HalfCheetah-v2_19-10-2020_12-28-29/\n",
      "./data/hw3_q4_10_10_CartPole-v0_19-10-2020_12-16-32/\n",
      "./data/hw3_q2_dqn_2_LunarLander-v3_16-10-2020_11-29-16/\n",
      "./data/hw3_q2_doubledqn_1_LunarLander-v3_16-10-2020_11-31-48/\n",
      "./data/hw3_q2_doubledqn_2_LunarLander-v3_16-10-2020_11-31-17/\n",
      "./data/hw3_q2_dqn_1_LunarLander-v3_16-10-2020_11-28-44/\n",
      "./data/hw3_q4_ac_1_1_CartPole-v0_19-10-2020_12-05-34/\n",
      "./data/hw3_q3_hparam1_LunarLander-v3_19-10-2020_13-42-43/\n",
      "./data/hw3_q1_MsPacman-v0_15-10-2020_22-00-59/\n",
      "./data/hw3_q4_1_100_CartPole-v0_19-10-2020_12-13-24/\n",
      "./data/hw3_q2_doubledqn_3_LunarLander-v3_16-10-2020_11-30-49/\n"
     ]
    }
   ],
   "source": [
    "for k, v in exps.items(): \n",
    "#     print(k, v[0])\n",
    "    direct = data_dir + v[0] + '/'\n",
    "    print(direct)\n",
    "#     !cp -a $direct ./run_logs"
   ]
  },
  {
   "cell_type": "code",
   "execution_count": 4,
   "metadata": {},
   "outputs": [
    {
     "name": "stdout",
     "output_type": "stream",
     "text": [
      "kkkk hw3_q1_MsPacman\n",
      "./data/submit/hw3_q1_MsPacman-v0_15-10-2020_22-00-59\n",
      "using file ./data/hw3_q1_MsPacman-v0_15-10-2020_22-00-59/events.out.tfevents.1602824459.mind5\n",
      "WARNING:tensorflow:From /userdata/smetzger/gim/lib/python3.6/site-packages/tensorflow/python/summary/summary_iterator.py:68: tf_record_iterator (from tensorflow.python.lib.io.tf_record) is deprecated and will be removed in a future version.\n",
      "Instructions for updating:\n",
      "Use eager execution and: \n",
      "`tf.data.TFRecordDataset(path)`\n"
     ]
    },
    {
     "data": {
      "image/png": "[encoded data removed]",
      "text/plain": [
       "<Figure size 432x288 with 1 Axes>"
      ]
     },
     "metadata": {
      "needs_background": "light"
     },
     "output_type": "display_data"
    }
   ],
   "source": [
    "# Question 1. \n",
    "\n",
    "%matplotlib inline\n",
    "import matplotlib.pyplot as plt\n",
    "plt.clf()\n",
    "import collections\n",
    "exps = collections.OrderedDict(sorted(exps.items()))\n",
    "for k, v in exps.items(): \n",
    "    if 'q1' in k and 'Ms' in k:\n",
    "        print('kkkk', k)\n",
    "        v = list(v)\n",
    "        print(data_dir + 'submit/'+ v[0])#'q3_b40000_r0.005_LunarLanderContinuous-v2_27-09-2020_23-03-14')\n",
    "        tsteps, returns = get_section_results_atari(data_dir  + v[0],\n",
    "                                          avret='Train_AverageReturn')\n",
    "    \n",
    "        plt.plot(np.array(tsteps[:-1])/1e3, returns[:], label = v[0].split('_Inverted')[0])\n",
    "        plt.xlabel('10^3 iters')\n",
    "        plt.ylabel('Train_AverageReturn')\n",
    "        plt.legend()\n",
    "        plt.savefig('./q1')\n",
    "    plt.show()\n",
    "\n"
   ]
  },
  {
   "cell_type": "code",
   "execution_count": 7,
   "metadata": {},
   "outputs": [
    {
     "name": "stdout",
     "output_type": "stream",
     "text": [
      "./data/hw3_q2_dqn_3_LunarLander-v3_16-10-2020_11-29-37\n",
      "using file ./data/hw3_q2_dqn_3_LunarLander-v3_16-10-2020_11-29-37/events.out.tfevents.1602872977.mind4\n",
      "142.11575317382812\n",
      "./data/hw3_q2_dqn_2_LunarLander-v3_16-10-2020_11-29-16\n",
      "using file ./data/hw3_q2_dqn_2_LunarLander-v3_16-10-2020_11-29-16/events.out.tfevents.1602872956.mind7\n",
      "161.14678955078125\n",
      "./data/hw3_q2_dqn_1_LunarLander-v3_16-10-2020_11-28-44\n",
      "using file ./data/hw3_q2_dqn_1_LunarLander-v3_16-10-2020_11-28-44/events.out.tfevents.1602872924.mind5\n",
      "131.1340789794922\n"
     ]
    },
    {
     "data": {
      "image/png": "[encoded data removed]",
      "text/plain": [
       "<Figure size 432x288 with 1 Axes>"
      ]
     },
     "metadata": {
      "needs_background": "light"
     },
     "output_type": "display_data"
    }
   ],
   "source": [
    "# Question 2. Part 1. DQN.\n",
    "\n",
    "%matplotlib inline\n",
    "import matplotlib.pyplot as plt\n",
    "plt.clf()\n",
    "import collections\n",
    "exps = collections.OrderedDict(sorted(exps.items()))\n",
    "\n",
    "exp_dirs = [\n",
    "    'cs285/homework_fall2020/hw3/cs285/data/hw3_q2_dqn_3_LunarLander-v3_16-10-2020_11-29-37',\n",
    "    'cs285/homework_fall2020/hw3/cs285/data/hw3_q2_dqn_2_LunarLander-v3_16-10-2020_11-29-16',\n",
    "    'cs285/homework_fall2020/hw3/cs285/data/hw3_q2_dqn_1_LunarLander-v3_16-10-2020_11-28-44',\n",
    "#     'cs285/homework_fall2020/hw3/cs285/data/hw3_q2_dqn_1_LunarLander-v3_16-10-2020_11-27-54'\n",
    "]\n",
    "for idx, v in enumerate(exp_dirs):\n",
    "    v = v.split('/')[-1]\n",
    "    print(data_dir + v)\n",
    "    tsteps, returns = get_section_results_atari(data_dir + v,\n",
    "                                      avret='Train_AverageReturn')\n",
    "\n",
    "    print(np.max(returns))\n",
    "    plt.plot(np.array(tsteps[:-1])/1e3, returns[:], label = 'Run %d' %idx)\n",
    "    plt.title('DQN')\n",
    "    plt.xlabel('10^3 Iters')\n",
    "    plt.ylabel('Train_AverageReturn')\n",
    "    plt.legend()\n",
    "plt.savefig('./q2_part1')\n",
    "plt.show()\n"
   ]
  },
  {
   "cell_type": "code",
   "execution_count": 8,
   "metadata": {},
   "outputs": [
    {
     "name": "stdout",
     "output_type": "stream",
     "text": [
      "./data/hw3_q2_doubledqn_1_LunarLander-v3_16-10-2020_11-31-48\n",
      "using file ./data/hw3_q2_doubledqn_1_LunarLander-v3_16-10-2020_11-31-48/events.out.tfevents.1602873108.mind8\n",
      "./data/hw3_q2_doubledqn_2_LunarLander-v3_16-10-2020_11-31-17\n",
      "using file ./data/hw3_q2_doubledqn_2_LunarLander-v3_16-10-2020_11-31-17/events.out.tfevents.1602873077.mind6\n",
      "./data/hw3_q2_doubledqn_3_LunarLander-v3_16-10-2020_11-30-49\n",
      "using file ./data/hw3_q2_doubledqn_3_LunarLander-v3_16-10-2020_11-30-49/events.out.tfevents.1602873049.mind1\n"
     ]
    },
    {
     "data": {
      "image/png": "[encoded data removed]",
      "text/plain": [
       "<Figure size 432x288 with 1 Axes>"
      ]
     },
     "metadata": {
      "needs_background": "light"
     },
     "output_type": "display_data"
    }
   ],
   "source": [
    "# Question 2. Part 1. DDQN.\n",
    "\n",
    "%matplotlib inline\n",
    "import matplotlib.pyplot as plt\n",
    "plt.clf()\n",
    "import collections\n",
    "exps = collections.OrderedDict(sorted(exps.items()))\n",
    "\n",
    "exp_dirs = [\n",
    "    'cs285/homework_fall2020/hw3/cs285/data/hw3_q2_doubledqn_1_LunarLander-v3_16-10-2020_11-31-48',\n",
    "    'cs285/homework_fall2020/hw3/cs285/data/hw3_q2_doubledqn_2_LunarLander-v3_16-10-2020_11-31-17',\n",
    "    'cs285/homework_fall2020/hw3/cs285/data/hw3_q2_doubledqn_3_LunarLander-v3_16-10-2020_11-30-49'\n",
    "    \n",
    "]\n",
    "for idx, v in enumerate(exp_dirs):\n",
    "    v = v.split('/')[-1]\n",
    "    print(data_dir + v)\n",
    "    tsteps, returns = get_section_results_atari(data_dir + v,\n",
    "                                      avret='Train_AverageReturn')\n",
    "\n",
    "    plt.plot(np.array(tsteps[:-1])/1e3, returns[:], label = 'Run %d' %idx)\n",
    "    plt.title('Double-DQN')\n",
    "    plt.xlabel('10^3 Iters')\n",
    "    plt.ylabel('Train_AverageReturn')\n",
    "    plt.legend()\n",
    "plt.savefig('./q2_part1')\n",
    "plt.show()\n"
   ]
  },
  {
   "cell_type": "code",
   "execution_count": 9,
   "metadata": {},
   "outputs": [
    {
     "ename": "SyntaxError",
     "evalue": "EOL while scanning string literal (<ipython-input-9-090cccab1bad>, line 15)",
     "output_type": "error",
     "traceback": [
      "\u001b[0;36m  File \u001b[0;32m\"<ipython-input-9-090cccab1bad>\"\u001b[0;36m, line \u001b[0;32m15\u001b[0m\n\u001b[0;31m    'cs285/homework_fall2020/hw3/cs285/data/hw3_q2_dqn_1_LunarLander-v3_16-10-2020_11-28-44','\u001b[0m\n\u001b[0m                                                                                              ^\u001b[0m\n\u001b[0;31mSyntaxError\u001b[0m\u001b[0;31m:\u001b[0m EOL while scanning string literal\n"
     ]
    }
   ],
   "source": [
    "# Question 2. Part 1. DDQN.\n",
    "\n",
    "%matplotlib inline\n",
    "import matplotlib.pyplot as plt\n",
    "plt.clf()\n",
    "import collections\n",
    "exps = collections.OrderedDict(sorted(exps.items()))\n",
    "\n",
    "exp_dirs = [\n",
    "    'cs285/homework_fall2020/hw3/cs285/data/hw3_q2_doubledqn_1_LunarLander-v3_16-10-2020_11-31-48',\n",
    "    'cs285/homework_fall2020/hw3/cs285/data/hw3_q2_doubledqn_2_LunarLander-v3_16-10-2020_11-31-17',\n",
    "    'cs285/homework_fall2020/hw3/cs285/data/hw3_q2_doubledqn_3_LunarLander-v3_16-10-2020_11-30-49',\n",
    "    'cs285/homework_fall2020/hw3/cs285/data/hw3_q2_dqn_3_LunarLander-v3_16-10-2020_11-29-37',\n",
    "    'cs285/homework_fall2020/hw3/cs285/data/hw3_q2_dqn_2_LunarLander-v3_16-10-2020_11-29-16',\n",
    "    'cs285/homework_fall2020/hw3/cs285/data/hw3_q2_dqn_1_LunarLander-v3_16-10-2020_11-28-44',\n",
    "]\n",
    "\n",
    "returns_double, returns_normal = [], []\n",
    "for idx, v in enumerate(exp_dirs):\n",
    "    print(idx)\n",
    "    v = v.split('/')[-1]\n",
    "    print(data_dir + v)\n",
    "    tsteps, returns = get_section_results_atari(data_dir + v,\n",
    "                                      avret='Train_AverageReturn')\n",
    "    if idx<3: \n",
    "        returns_double.append(returns)\n",
    "    else:\n",
    "        returns_normal.append(returns)\n",
    "        \n",
    "    \n",
    "plt.plot(np.array(tsteps[:-1])/1e3, np.mean(np.array(returns_double), axis=0),label = 'Double DQN avg.')\n",
    "plt.plot(np.array(tsteps[:-1])/1e3, np.mean(np.array(returns_normal), axis=0),label = 'DQN avg.')\n",
    "plt.title('Double-DQN v. DQN')\n",
    "plt.xlabel('10^3 Iters')\n",
    "plt.ylabel('Train_AverageReturn')\n",
    "plt.legend()\n",
    "plt.savefig('./q2.png')\n",
    "plt.show()\n"
   ]
  },
  {
   "cell_type": "code",
   "execution_count": null,
   "metadata": {},
   "outputs": [],
   "source": [
    "# Question 2. Part 1. DDQN.\n",
    "\n",
    "%matplotlib inline\n",
    "import matplotlib.pyplot as plt\n",
    "plt.clf()\n",
    "import collections\n",
    "exps = collections.OrderedDict(sorted(exps.items()))\n",
    "\n",
    "exp_dirs = [\n",
    "    'cs285/homework_fall2020/hw3/cs285/data/hw3_q2_doubledqn_1_LunarLander-v3_16-10-2020_11-31-48',\n",
    "    'cs285/homework_fall2020/hw3/cs285/data/hw3_q2_doubledqn_1_LunarLander-v3_16-10-2020_11-31-17',\n",
    "    'cs285/homework_fall2020/hw3/cs285/data/hw3_q2_doubledqn_1_LunarLander-v3_16-10-2020_11-30-49',\n",
    "    'cs285/homework_fall2020/hw3/cs285/data/hw3_q2_dqn_2_LunarLander-v3_16-10-2020_11-29-37',\n",
    "    'cs285/homework_fall2020/hw3/cs285/data/hw3_q2_dqn_2_LunarLander-v3_16-10-2020_11-29-16',\n",
    "    'cs285/homework_fall2020/hw3/cs285/data/hw3_q2_dqn_1_LunarLander-v3_16-10-2020_11-28-44',\n",
    "]\n",
    "for idx, v in enumerate(exp_dirs):\n",
    "    print(idx)\n",
    "    v = v.split('/')[-1]\n",
    "    print(data_dir + v)\n",
    "    tsteps, returns = get_section_results_atari(data_dir + v,\n",
    "                                      avret='Train_AverageReturn')\n",
    "    if idx < 3: \n",
    "        color = 'r'\n",
    "        name = 'double DQN'\n",
    "    else: \n",
    "        color = 'b'\n",
    "        name = 'DQN'\n",
    "    plt.plot(np.array(tsteps[:-1])/1e3, returns[:], c=color, label = '%s Seed %d' %(name, (idx%3)))\n",
    "    plt.title('Double-DQN v. DQN')\n",
    "    plt.xlabel('10^3 Iters')\n",
    "    plt.ylabel('Train_AverageReturn')\n",
    "    plt.legend()\n",
    "plt.savefig('./q2.png')\n",
    "plt.show()\n"
   ]
  },
  {
   "cell_type": "code",
   "execution_count": null,
   "metadata": {},
   "outputs": [],
   "source": [
    "# Question 3. \n",
    "\n",
    "# LR dict\n",
    "lr_dict = {'1': 1e-3, \n",
    "            '2':1e-2,\n",
    "            '3': 1e-4, \n",
    "            '4':1e-1}\n",
    "\n",
    "for k, v in exps.items(): \n",
    "    if 'q3' in k and 'hparam' in k:\n",
    "        print('kkkk', k)\n",
    "        v = list(v)\n",
    "        print(data_dir +  v[0])#'q3_b40000_r0.005_LunarLanderContinuous-v2_27-09-2020_23-03-14')\n",
    "        tsteps, returns = get_section_results_atari(data_dir + v[0],\n",
    "                                          avret='Train_AverageReturn')\n",
    "    \n",
    "        hparam_num = v[0].split('hparam')[1][0]\n",
    "        print(hparam_num)\n",
    "        name = 'LR = %.4f' %lr_dict[hparam_num]\n",
    "        if not hparam_num == '1': \n",
    "            \n",
    "            plt.plot(np.array(tsteps[:-1])/1e3, returns[:], label = name)\n",
    "            plt.xlabel('10^3 iters')\n",
    "            plt.ylabel('Train_AverageReturn')\n",
    "            plt.legend()\n",
    "\n",
    "plt.savefig('./q3')        \n",
    "plt.show()"
   ]
  },
  {
   "cell_type": "code",
   "execution_count": null,
   "metadata": {},
   "outputs": [],
   "source": [
    "# Question 4: \n",
    "\n",
    "for k, v in exps.items(): \n",
    "    if 'q4' in k:\n",
    "        print('kkkk', k)\n",
    "        v = list(v)\n",
    "        print(data_dir +  v[0])#'q3_b40000_r0.005_LunarLanderContinuous-v2_27-09-2020_23-03-14')\n",
    "        returns, std_returns = get_section_results(data_dir + v[0])\n",
    "    \n",
    "        txt = v[0].split('_Cart')[0]\n",
    "        txt.replace('ac', '')\n",
    "        ngsptu = int(txt.split('_')[-1])\n",
    "        ntu = int(txt.split('_')[-2])\n",
    "        plt.errorbar((np.arange(len(returns))+1)*10, returns[:], yerr=std_returns, label = 'ntu %d, ngsptu %d'\n",
    "                    %(ntu, ngsptu))\n",
    "        plt.xlabel('Iterations')\n",
    "        plt.ylabel('Eval_AverageReturn')\n",
    "        plt.legend()\n",
    "\n",
    "plt.savefig('./q4')        \n",
    "plt.show()"
   ]
  },
  {
   "cell_type": "code",
   "execution_count": null,
   "metadata": {},
   "outputs": [],
   "source": [
    "# Question 5. Actor critic on the hard tasks"
   ]
  },
  {
   "cell_type": "code",
   "execution_count": null,
   "metadata": {},
   "outputs": [],
   "source": [
    "# Question 4: \n",
    "\n",
    "for k, v in exps.items(): \n",
    "    if 'q5' in k and 'Inv' in k:\n",
    "        print('kkkk', k)\n",
    "        v = list(v)\n",
    "        print(data_dir +  v[0])#'q3_b40000_r0.005_LunarLanderContinuous-v2_27-09-2020_23-03-14')\n",
    "        returns, std_returns = get_section_results(data_dir + v[0])\n",
    "    \n",
    "#         txt = v[0].split('_Cart')[0]\n",
    "#         txt.replace('ac', '')\n",
    "#         ngsptu = int(txt.split('_')[-1])\n",
    "#         ntu = int(txt.split('_')[-2])\n",
    "        plt.errorbar((np.arange(len(returns))+1)*10, returns[:], yerr=std_returns, label = 'Inverted pendulum')\n",
    "        plt.xlabel('Iterations')\n",
    "        plt.ylabel('Eval_AverageReturn')\n",
    "        plt.legend()\n",
    "\n",
    "plt.savefig('./q5_ipen')        \n",
    "plt.show()"
   ]
  },
  {
   "cell_type": "code",
   "execution_count": null,
   "metadata": {},
   "outputs": [],
   "source": [
    "# Question 5 part 2\n",
    "\n",
    "for k, v in exps.items(): \n",
    "    if 'q5' in k and 'Half' in k:\n",
    "        print('kkkk', k)\n",
    "        v = list(v)\n",
    "        print(data_dir +  v[0])#'q3_b40000_r0.005_LunarLanderContinuous-v2_27-09-2020_23-03-14')\n",
    "        returns, std_returns = get_section_results(data_dir + v[0])\n",
    "        plt.errorbar((np.arange(len(returns))+1), returns[:], yerr=std_returns, label = 'Half Cheetah')\n",
    "        plt.xlabel('Iterations')\n",
    "        plt.ylabel('Eval_AverageReturn')\n",
    "        plt.legend()\n",
    "\n",
    "plt.savefig('./q5_halfcheetah')        \n",
    "plt.show()"
   ]
  },
  {
   "cell_type": "code",
   "execution_count": null,
   "metadata": {},
   "outputs": [],
   "source": [
    "for file in os.listdir('./cs285/data/logs'): \n",
    "    for ff in os.listdir(os.path.join('./cs285/data/logs', file)): \n",
    "        print(ff)\n",
    "        if 'gym' in ff: \n",
    "            clean = os.path.join('./cs285/data/logs', file)\n",
    "            clean = os.path.join(clean, 'gym')\n",
    "            !rm -r $clean"
   ]
  }
 ],
 "metadata": {
  "kernelspec": {
   "display_name": "Python 3",
   "language": "python",
   "name": "python3"
  },
  "language_info": {
   "codemirror_mode": {
    "name": "ipython",
    "version": 3
   },
   "file_extension": ".py",
   "mimetype": "text/x-python",
   "name": "python",
   "nbconvert_exporter": "python",
   "pygments_lexer": "ipython3",
   "version": "3.6.6"
  }
 },
 "nbformat": 4,
 "nbformat_minor": 4
}
